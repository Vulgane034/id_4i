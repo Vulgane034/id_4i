{
 "cells": [
  {
   "cell_type": "code",
   "execution_count": null,
   "id": "983bef3f-4768-490b-ae7b-88024fe64ac7",
   "metadata": {},
   "outputs": [],
   "source": [
    " "
   ]
  },
  {
   "cell_type": "code",
   "execution_count": 1,
   "id": "d1f7fba6-6c4f-4b67-968e-29caad57af33",
   "metadata": {},
   "outputs": [],
   "source": [
    "import pandas as pd\n",
    "from sklearn.ensemble import RandomForestClassifier\n",
    "from sklearn.model_selection import train_test_split\n",
    "from sklearn.preprocessing import LabelEncoder\n",
    "from sklearn.metrics import accuracy_score\n",
    "from sklearn.pipeline import Pipeline"
   ]
  },
  {
   "cell_type": "code",
   "execution_count": 3,
   "id": "0e54f61b-b207-4dd8-8e45-04f5fb1aa851",
   "metadata": {},
   "outputs": [],
   "source": [
    "# Charger le fichier CSV\n",
    "df = pd.read_csv(\"netflix_titles.csv\")"
   ]
  },
  {
   "cell_type": "markdown",
   "id": "16485ad0-8163-4c4a-aab0-61d5c39dc88d",
   "metadata": {},
   "source": [
    "\n",
    "Prétraitement des données"
   ]
  },
  {
   "cell_type": "code",
   "execution_count": 6,
   "id": "8f9b17b3-b025-4379-84c9-640591911aac",
   "metadata": {},
   "outputs": [],
   "source": [
    "# Supprimer les lignes avec des valeurs manquantes\n",
    "df = df.dropna()"
   ]
  },
  {
   "cell_type": "code",
   "execution_count": 8,
   "id": "088c345f-2655-4e73-9a8e-0d34d5da869d",
   "metadata": {},
   "outputs": [
    {
     "data": {
      "text/html": [
       "<div>\n",
       "<style scoped>\n",
       "    .dataframe tbody tr th:only-of-type {\n",
       "        vertical-align: middle;\n",
       "    }\n",
       "\n",
       "    .dataframe tbody tr th {\n",
       "        vertical-align: top;\n",
       "    }\n",
       "\n",
       "    .dataframe thead th {\n",
       "        text-align: right;\n",
       "    }\n",
       "</style>\n",
       "<table border=\"1\" class=\"dataframe\">\n",
       "  <thead>\n",
       "    <tr style=\"text-align: right;\">\n",
       "      <th></th>\n",
       "      <th>show_id</th>\n",
       "      <th>type</th>\n",
       "      <th>title</th>\n",
       "      <th>director</th>\n",
       "      <th>cast</th>\n",
       "      <th>country</th>\n",
       "      <th>date_added</th>\n",
       "      <th>release_year</th>\n",
       "      <th>rating</th>\n",
       "      <th>duration</th>\n",
       "      <th>listed_in</th>\n",
       "      <th>description</th>\n",
       "    </tr>\n",
       "  </thead>\n",
       "  <tbody>\n",
       "    <tr>\n",
       "      <th>1</th>\n",
       "      <td>s2</td>\n",
       "      <td>Movie</td>\n",
       "      <td>7:19</td>\n",
       "      <td>Jorge Michel Grau</td>\n",
       "      <td>Demián Bichir, Héctor Bonilla, Oscar Serrano, ...</td>\n",
       "      <td>Mexico</td>\n",
       "      <td>December 23, 2016</td>\n",
       "      <td>2016</td>\n",
       "      <td>TV-MA</td>\n",
       "      <td>93 min</td>\n",
       "      <td>Dramas, International Movies</td>\n",
       "      <td>After a devastating earthquake hits Mexico Cit...</td>\n",
       "    </tr>\n",
       "    <tr>\n",
       "      <th>2</th>\n",
       "      <td>s3</td>\n",
       "      <td>Movie</td>\n",
       "      <td>23:59</td>\n",
       "      <td>Gilbert Chan</td>\n",
       "      <td>Tedd Chan, Stella Chung, Henley Hii, Lawrence ...</td>\n",
       "      <td>Singapore</td>\n",
       "      <td>December 20, 2018</td>\n",
       "      <td>2011</td>\n",
       "      <td>R</td>\n",
       "      <td>78 min</td>\n",
       "      <td>Horror Movies, International Movies</td>\n",
       "      <td>When an army recruit is found dead, his fellow...</td>\n",
       "    </tr>\n",
       "    <tr>\n",
       "      <th>3</th>\n",
       "      <td>s4</td>\n",
       "      <td>Movie</td>\n",
       "      <td>9</td>\n",
       "      <td>Shane Acker</td>\n",
       "      <td>Elijah Wood, John C. Reilly, Jennifer Connelly...</td>\n",
       "      <td>United States</td>\n",
       "      <td>November 16, 2017</td>\n",
       "      <td>2009</td>\n",
       "      <td>PG-13</td>\n",
       "      <td>80 min</td>\n",
       "      <td>Action &amp; Adventure, Independent Movies, Sci-Fi...</td>\n",
       "      <td>In a postapocalyptic world, rag-doll robots hi...</td>\n",
       "    </tr>\n",
       "    <tr>\n",
       "      <th>4</th>\n",
       "      <td>s5</td>\n",
       "      <td>Movie</td>\n",
       "      <td>21</td>\n",
       "      <td>Robert Luketic</td>\n",
       "      <td>Jim Sturgess, Kevin Spacey, Kate Bosworth, Aar...</td>\n",
       "      <td>United States</td>\n",
       "      <td>January 1, 2020</td>\n",
       "      <td>2008</td>\n",
       "      <td>PG-13</td>\n",
       "      <td>123 min</td>\n",
       "      <td>Dramas</td>\n",
       "      <td>A brilliant group of students become card-coun...</td>\n",
       "    </tr>\n",
       "    <tr>\n",
       "      <th>5</th>\n",
       "      <td>s6</td>\n",
       "      <td>TV Show</td>\n",
       "      <td>46</td>\n",
       "      <td>Serdar Akar</td>\n",
       "      <td>Erdal Beşikçioğlu, Yasemin Allen, Melis Birkan...</td>\n",
       "      <td>Turkey</td>\n",
       "      <td>July 1, 2017</td>\n",
       "      <td>2016</td>\n",
       "      <td>TV-MA</td>\n",
       "      <td>1 Season</td>\n",
       "      <td>International TV Shows, TV Dramas, TV Mysteries</td>\n",
       "      <td>A genetics professor experiments with a treatm...</td>\n",
       "    </tr>\n",
       "    <tr>\n",
       "      <th>...</th>\n",
       "      <td>...</td>\n",
       "      <td>...</td>\n",
       "      <td>...</td>\n",
       "      <td>...</td>\n",
       "      <td>...</td>\n",
       "      <td>...</td>\n",
       "      <td>...</td>\n",
       "      <td>...</td>\n",
       "      <td>...</td>\n",
       "      <td>...</td>\n",
       "      <td>...</td>\n",
       "      <td>...</td>\n",
       "    </tr>\n",
       "    <tr>\n",
       "      <th>7778</th>\n",
       "      <td>s7779</td>\n",
       "      <td>Movie</td>\n",
       "      <td>Zombieland</td>\n",
       "      <td>Ruben Fleischer</td>\n",
       "      <td>Jesse Eisenberg, Woody Harrelson, Emma Stone, ...</td>\n",
       "      <td>United States</td>\n",
       "      <td>November 1, 2019</td>\n",
       "      <td>2009</td>\n",
       "      <td>R</td>\n",
       "      <td>88 min</td>\n",
       "      <td>Comedies, Horror Movies</td>\n",
       "      <td>Looking to survive in a world taken over by zo...</td>\n",
       "    </tr>\n",
       "    <tr>\n",
       "      <th>7780</th>\n",
       "      <td>s7781</td>\n",
       "      <td>Movie</td>\n",
       "      <td>Zoo</td>\n",
       "      <td>Shlok Sharma</td>\n",
       "      <td>Shashank Arora, Shweta Tripathi, Rahul Kumar, ...</td>\n",
       "      <td>India</td>\n",
       "      <td>July 1, 2018</td>\n",
       "      <td>2018</td>\n",
       "      <td>TV-MA</td>\n",
       "      <td>94 min</td>\n",
       "      <td>Dramas, Independent Movies, International Movies</td>\n",
       "      <td>A drug dealer starts having doubts about his t...</td>\n",
       "    </tr>\n",
       "    <tr>\n",
       "      <th>7781</th>\n",
       "      <td>s7782</td>\n",
       "      <td>Movie</td>\n",
       "      <td>Zoom</td>\n",
       "      <td>Peter Hewitt</td>\n",
       "      <td>Tim Allen, Courteney Cox, Chevy Chase, Kate Ma...</td>\n",
       "      <td>United States</td>\n",
       "      <td>January 11, 2020</td>\n",
       "      <td>2006</td>\n",
       "      <td>PG</td>\n",
       "      <td>88 min</td>\n",
       "      <td>Children &amp; Family Movies, Comedies</td>\n",
       "      <td>Dragged from civilian life, a former superhero...</td>\n",
       "    </tr>\n",
       "    <tr>\n",
       "      <th>7782</th>\n",
       "      <td>s7783</td>\n",
       "      <td>Movie</td>\n",
       "      <td>Zozo</td>\n",
       "      <td>Josef Fares</td>\n",
       "      <td>Imad Creidi, Antoinette Turk, Elias Gergi, Car...</td>\n",
       "      <td>Sweden, Czech Republic, United Kingdom, Denmar...</td>\n",
       "      <td>October 19, 2020</td>\n",
       "      <td>2005</td>\n",
       "      <td>TV-MA</td>\n",
       "      <td>99 min</td>\n",
       "      <td>Dramas, International Movies</td>\n",
       "      <td>When Lebanon's Civil War deprives Zozo of his ...</td>\n",
       "    </tr>\n",
       "    <tr>\n",
       "      <th>7783</th>\n",
       "      <td>s7784</td>\n",
       "      <td>Movie</td>\n",
       "      <td>Zubaan</td>\n",
       "      <td>Mozez Singh</td>\n",
       "      <td>Vicky Kaushal, Sarah-Jane Dias, Raaghav Chanan...</td>\n",
       "      <td>India</td>\n",
       "      <td>March 2, 2019</td>\n",
       "      <td>2015</td>\n",
       "      <td>TV-14</td>\n",
       "      <td>111 min</td>\n",
       "      <td>Dramas, International Movies, Music &amp; Musicals</td>\n",
       "      <td>A scrappy but poor boy worms his way into a ty...</td>\n",
       "    </tr>\n",
       "  </tbody>\n",
       "</table>\n",
       "<p>4808 rows × 12 columns</p>\n",
       "</div>"
      ],
      "text/plain": [
       "     show_id     type       title           director  \\\n",
       "1         s2    Movie        7:19  Jorge Michel Grau   \n",
       "2         s3    Movie       23:59       Gilbert Chan   \n",
       "3         s4    Movie           9        Shane Acker   \n",
       "4         s5    Movie          21     Robert Luketic   \n",
       "5         s6  TV Show          46        Serdar Akar   \n",
       "...      ...      ...         ...                ...   \n",
       "7778   s7779    Movie  Zombieland    Ruben Fleischer   \n",
       "7780   s7781    Movie         Zoo       Shlok Sharma   \n",
       "7781   s7782    Movie        Zoom       Peter Hewitt   \n",
       "7782   s7783    Movie        Zozo        Josef Fares   \n",
       "7783   s7784    Movie      Zubaan        Mozez Singh   \n",
       "\n",
       "                                                   cast  \\\n",
       "1     Demián Bichir, Héctor Bonilla, Oscar Serrano, ...   \n",
       "2     Tedd Chan, Stella Chung, Henley Hii, Lawrence ...   \n",
       "3     Elijah Wood, John C. Reilly, Jennifer Connelly...   \n",
       "4     Jim Sturgess, Kevin Spacey, Kate Bosworth, Aar...   \n",
       "5     Erdal Beşikçioğlu, Yasemin Allen, Melis Birkan...   \n",
       "...                                                 ...   \n",
       "7778  Jesse Eisenberg, Woody Harrelson, Emma Stone, ...   \n",
       "7780  Shashank Arora, Shweta Tripathi, Rahul Kumar, ...   \n",
       "7781  Tim Allen, Courteney Cox, Chevy Chase, Kate Ma...   \n",
       "7782  Imad Creidi, Antoinette Turk, Elias Gergi, Car...   \n",
       "7783  Vicky Kaushal, Sarah-Jane Dias, Raaghav Chanan...   \n",
       "\n",
       "                                                country         date_added  \\\n",
       "1                                                Mexico  December 23, 2016   \n",
       "2                                             Singapore  December 20, 2018   \n",
       "3                                         United States  November 16, 2017   \n",
       "4                                         United States    January 1, 2020   \n",
       "5                                                Turkey       July 1, 2017   \n",
       "...                                                 ...                ...   \n",
       "7778                                      United States   November 1, 2019   \n",
       "7780                                              India       July 1, 2018   \n",
       "7781                                      United States   January 11, 2020   \n",
       "7782  Sweden, Czech Republic, United Kingdom, Denmar...   October 19, 2020   \n",
       "7783                                              India      March 2, 2019   \n",
       "\n",
       "      release_year rating  duration  \\\n",
       "1             2016  TV-MA    93 min   \n",
       "2             2011      R    78 min   \n",
       "3             2009  PG-13    80 min   \n",
       "4             2008  PG-13   123 min   \n",
       "5             2016  TV-MA  1 Season   \n",
       "...            ...    ...       ...   \n",
       "7778          2009      R    88 min   \n",
       "7780          2018  TV-MA    94 min   \n",
       "7781          2006     PG    88 min   \n",
       "7782          2005  TV-MA    99 min   \n",
       "7783          2015  TV-14   111 min   \n",
       "\n",
       "                                              listed_in  \\\n",
       "1                          Dramas, International Movies   \n",
       "2                   Horror Movies, International Movies   \n",
       "3     Action & Adventure, Independent Movies, Sci-Fi...   \n",
       "4                                                Dramas   \n",
       "5       International TV Shows, TV Dramas, TV Mysteries   \n",
       "...                                                 ...   \n",
       "7778                            Comedies, Horror Movies   \n",
       "7780   Dramas, Independent Movies, International Movies   \n",
       "7781                 Children & Family Movies, Comedies   \n",
       "7782                       Dramas, International Movies   \n",
       "7783     Dramas, International Movies, Music & Musicals   \n",
       "\n",
       "                                            description  \n",
       "1     After a devastating earthquake hits Mexico Cit...  \n",
       "2     When an army recruit is found dead, his fellow...  \n",
       "3     In a postapocalyptic world, rag-doll robots hi...  \n",
       "4     A brilliant group of students become card-coun...  \n",
       "5     A genetics professor experiments with a treatm...  \n",
       "...                                                 ...  \n",
       "7778  Looking to survive in a world taken over by zo...  \n",
       "7780  A drug dealer starts having doubts about his t...  \n",
       "7781  Dragged from civilian life, a former superhero...  \n",
       "7782  When Lebanon's Civil War deprives Zozo of his ...  \n",
       "7783  A scrappy but poor boy worms his way into a ty...  \n",
       "\n",
       "[4808 rows x 12 columns]"
      ]
     },
     "execution_count": 8,
     "metadata": {},
     "output_type": "execute_result"
    }
   ],
   "source": [
    "# Supprimer les lignes avec des valeurs manquantes\n",
    "df "
   ]
  },
  {
   "cell_type": "code",
   "execution_count": 10,
   "id": "096eb535-f8a4-431f-b152-4eed8459671e",
   "metadata": {},
   "outputs": [
    {
     "data": {
      "text/html": [
       "<div>\n",
       "<style scoped>\n",
       "    .dataframe tbody tr th:only-of-type {\n",
       "        vertical-align: middle;\n",
       "    }\n",
       "\n",
       "    .dataframe tbody tr th {\n",
       "        vertical-align: top;\n",
       "    }\n",
       "\n",
       "    .dataframe thead th {\n",
       "        text-align: right;\n",
       "    }\n",
       "</style>\n",
       "<table border=\"1\" class=\"dataframe\">\n",
       "  <thead>\n",
       "    <tr style=\"text-align: right;\">\n",
       "      <th></th>\n",
       "      <th>show_id</th>\n",
       "      <th>type</th>\n",
       "      <th>title</th>\n",
       "      <th>director</th>\n",
       "      <th>cast</th>\n",
       "      <th>country</th>\n",
       "      <th>date_added</th>\n",
       "      <th>release_year</th>\n",
       "      <th>rating</th>\n",
       "      <th>duration</th>\n",
       "      <th>listed_in</th>\n",
       "      <th>description</th>\n",
       "    </tr>\n",
       "  </thead>\n",
       "  <tbody>\n",
       "    <tr>\n",
       "      <th>count</th>\n",
       "      <td>4808</td>\n",
       "      <td>4808</td>\n",
       "      <td>4808</td>\n",
       "      <td>4808</td>\n",
       "      <td>4808</td>\n",
       "      <td>4808</td>\n",
       "      <td>4808</td>\n",
       "      <td>4808.000000</td>\n",
       "      <td>4808</td>\n",
       "      <td>4808</td>\n",
       "      <td>4808</td>\n",
       "      <td>4808</td>\n",
       "    </tr>\n",
       "    <tr>\n",
       "      <th>unique</th>\n",
       "      <td>4808</td>\n",
       "      <td>2</td>\n",
       "      <td>4808</td>\n",
       "      <td>3613</td>\n",
       "      <td>4688</td>\n",
       "      <td>544</td>\n",
       "      <td>1291</td>\n",
       "      <td>NaN</td>\n",
       "      <td>14</td>\n",
       "      <td>195</td>\n",
       "      <td>323</td>\n",
       "      <td>4803</td>\n",
       "    </tr>\n",
       "    <tr>\n",
       "      <th>top</th>\n",
       "      <td>s2</td>\n",
       "      <td>Movie</td>\n",
       "      <td>7:19</td>\n",
       "      <td>Raúl Campos, Jan Suter</td>\n",
       "      <td>Samuel West</td>\n",
       "      <td>United States</td>\n",
       "      <td>January 1, 2020</td>\n",
       "      <td>NaN</td>\n",
       "      <td>TV-MA</td>\n",
       "      <td>93 min</td>\n",
       "      <td>Dramas, International Movies</td>\n",
       "      <td>A scheming matriarch plots to cut off her disa...</td>\n",
       "    </tr>\n",
       "    <tr>\n",
       "      <th>freq</th>\n",
       "      <td>1</td>\n",
       "      <td>4673</td>\n",
       "      <td>1</td>\n",
       "      <td>18</td>\n",
       "      <td>10</td>\n",
       "      <td>1653</td>\n",
       "      <td>100</td>\n",
       "      <td>NaN</td>\n",
       "      <td>1665</td>\n",
       "      <td>121</td>\n",
       "      <td>306</td>\n",
       "      <td>2</td>\n",
       "    </tr>\n",
       "    <tr>\n",
       "      <th>mean</th>\n",
       "      <td>NaN</td>\n",
       "      <td>NaN</td>\n",
       "      <td>NaN</td>\n",
       "      <td>NaN</td>\n",
       "      <td>NaN</td>\n",
       "      <td>NaN</td>\n",
       "      <td>NaN</td>\n",
       "      <td>2012.710275</td>\n",
       "      <td>NaN</td>\n",
       "      <td>NaN</td>\n",
       "      <td>NaN</td>\n",
       "      <td>NaN</td>\n",
       "    </tr>\n",
       "    <tr>\n",
       "      <th>std</th>\n",
       "      <td>NaN</td>\n",
       "      <td>NaN</td>\n",
       "      <td>NaN</td>\n",
       "      <td>NaN</td>\n",
       "      <td>NaN</td>\n",
       "      <td>NaN</td>\n",
       "      <td>NaN</td>\n",
       "      <td>9.521541</td>\n",
       "      <td>NaN</td>\n",
       "      <td>NaN</td>\n",
       "      <td>NaN</td>\n",
       "      <td>NaN</td>\n",
       "    </tr>\n",
       "    <tr>\n",
       "      <th>min</th>\n",
       "      <td>NaN</td>\n",
       "      <td>NaN</td>\n",
       "      <td>NaN</td>\n",
       "      <td>NaN</td>\n",
       "      <td>NaN</td>\n",
       "      <td>NaN</td>\n",
       "      <td>NaN</td>\n",
       "      <td>1942.000000</td>\n",
       "      <td>NaN</td>\n",
       "      <td>NaN</td>\n",
       "      <td>NaN</td>\n",
       "      <td>NaN</td>\n",
       "    </tr>\n",
       "    <tr>\n",
       "      <th>25%</th>\n",
       "      <td>NaN</td>\n",
       "      <td>NaN</td>\n",
       "      <td>NaN</td>\n",
       "      <td>NaN</td>\n",
       "      <td>NaN</td>\n",
       "      <td>NaN</td>\n",
       "      <td>NaN</td>\n",
       "      <td>2011.000000</td>\n",
       "      <td>NaN</td>\n",
       "      <td>NaN</td>\n",
       "      <td>NaN</td>\n",
       "      <td>NaN</td>\n",
       "    </tr>\n",
       "    <tr>\n",
       "      <th>50%</th>\n",
       "      <td>NaN</td>\n",
       "      <td>NaN</td>\n",
       "      <td>NaN</td>\n",
       "      <td>NaN</td>\n",
       "      <td>NaN</td>\n",
       "      <td>NaN</td>\n",
       "      <td>NaN</td>\n",
       "      <td>2016.000000</td>\n",
       "      <td>NaN</td>\n",
       "      <td>NaN</td>\n",
       "      <td>NaN</td>\n",
       "      <td>NaN</td>\n",
       "    </tr>\n",
       "    <tr>\n",
       "      <th>75%</th>\n",
       "      <td>NaN</td>\n",
       "      <td>NaN</td>\n",
       "      <td>NaN</td>\n",
       "      <td>NaN</td>\n",
       "      <td>NaN</td>\n",
       "      <td>NaN</td>\n",
       "      <td>NaN</td>\n",
       "      <td>2018.000000</td>\n",
       "      <td>NaN</td>\n",
       "      <td>NaN</td>\n",
       "      <td>NaN</td>\n",
       "      <td>NaN</td>\n",
       "    </tr>\n",
       "    <tr>\n",
       "      <th>max</th>\n",
       "      <td>NaN</td>\n",
       "      <td>NaN</td>\n",
       "      <td>NaN</td>\n",
       "      <td>NaN</td>\n",
       "      <td>NaN</td>\n",
       "      <td>NaN</td>\n",
       "      <td>NaN</td>\n",
       "      <td>2021.000000</td>\n",
       "      <td>NaN</td>\n",
       "      <td>NaN</td>\n",
       "      <td>NaN</td>\n",
       "      <td>NaN</td>\n",
       "    </tr>\n",
       "  </tbody>\n",
       "</table>\n",
       "</div>"
      ],
      "text/plain": [
       "       show_id   type title                director         cast  \\\n",
       "count     4808   4808  4808                    4808         4808   \n",
       "unique    4808      2  4808                    3613         4688   \n",
       "top         s2  Movie  7:19  Raúl Campos, Jan Suter  Samuel West   \n",
       "freq         1   4673     1                      18           10   \n",
       "mean       NaN    NaN   NaN                     NaN          NaN   \n",
       "std        NaN    NaN   NaN                     NaN          NaN   \n",
       "min        NaN    NaN   NaN                     NaN          NaN   \n",
       "25%        NaN    NaN   NaN                     NaN          NaN   \n",
       "50%        NaN    NaN   NaN                     NaN          NaN   \n",
       "75%        NaN    NaN   NaN                     NaN          NaN   \n",
       "max        NaN    NaN   NaN                     NaN          NaN   \n",
       "\n",
       "              country       date_added  release_year rating duration  \\\n",
       "count            4808             4808   4808.000000   4808     4808   \n",
       "unique            544             1291           NaN     14      195   \n",
       "top     United States  January 1, 2020           NaN  TV-MA   93 min   \n",
       "freq             1653              100           NaN   1665      121   \n",
       "mean              NaN              NaN   2012.710275    NaN      NaN   \n",
       "std               NaN              NaN      9.521541    NaN      NaN   \n",
       "min               NaN              NaN   1942.000000    NaN      NaN   \n",
       "25%               NaN              NaN   2011.000000    NaN      NaN   \n",
       "50%               NaN              NaN   2016.000000    NaN      NaN   \n",
       "75%               NaN              NaN   2018.000000    NaN      NaN   \n",
       "max               NaN              NaN   2021.000000    NaN      NaN   \n",
       "\n",
       "                           listed_in  \\\n",
       "count                           4808   \n",
       "unique                           323   \n",
       "top     Dramas, International Movies   \n",
       "freq                             306   \n",
       "mean                             NaN   \n",
       "std                              NaN   \n",
       "min                              NaN   \n",
       "25%                              NaN   \n",
       "50%                              NaN   \n",
       "75%                              NaN   \n",
       "max                              NaN   \n",
       "\n",
       "                                              description  \n",
       "count                                                4808  \n",
       "unique                                               4803  \n",
       "top     A scheming matriarch plots to cut off her disa...  \n",
       "freq                                                    2  \n",
       "mean                                                  NaN  \n",
       "std                                                   NaN  \n",
       "min                                                   NaN  \n",
       "25%                                                   NaN  \n",
       "50%                                                   NaN  \n",
       "75%                                                   NaN  \n",
       "max                                                   NaN  "
      ]
     },
     "execution_count": 10,
     "metadata": {},
     "output_type": "execute_result"
    }
   ],
   "source": [
    "df.describe(include='all')"
   ]
  },
  {
   "cell_type": "code",
   "execution_count": 12,
   "id": "503d0aa3-4fb8-4877-a87e-280b8e1cf9dc",
   "metadata": {},
   "outputs": [],
   "source": [
    "def extract_duration(duration):\n",
    "    try:\n",
    "        return float(duration.split(' ')[0])  # Extraire la partie numérique avant l'espace\n",
    "    except (ValueError, IndexError):  # Capturer les exceptions spécifiques\n",
    "        return None  # Retourner None si la conversion échoue\n",
    "\n",
    "# Exemple d'utilisation\n",
    "# Affiche None\n"
   ]
  },
  {
   "cell_type": "code",
   "execution_count": 14,
   "id": "81b6c2e1-6b34-4aae-8c8d-f18f95a5a4fb",
   "metadata": {},
   "outputs": [],
   "source": [
    "# Appliquer la fonction sur la colonne 'duration' pour extraire les valeurs numériques\n",
    "df['duration_normalise'] = df['duration'].apply(lambda x: extract_duration(x))\n"
   ]
  },
  {
   "cell_type": "code",
   "execution_count": 18,
   "id": "29071cce-6118-4320-961d-6b07c734da22",
   "metadata": {},
   "outputs": [],
   "source": [
    "# supression des colonne inutile pour la conception de l algorithme de recomandation\n",
    "df.drop(['date_added'],axis=1,inplace=True)"
   ]
  },
  {
   "cell_type": "code",
   "execution_count": 20,
   "id": "a582867c-2ec8-4287-9bbf-553c8c75ff5c",
   "metadata": {},
   "outputs": [
    {
     "name": "stdout",
     "output_type": "stream",
     "text": [
      "<class 'pandas.core.frame.DataFrame'>\n",
      "Int64Index: 4808 entries, 1 to 7783\n",
      "Data columns (total 12 columns):\n",
      " #   Column              Non-Null Count  Dtype  \n",
      "---  ------              --------------  -----  \n",
      " 0   show_id             4808 non-null   object \n",
      " 1   type                4808 non-null   object \n",
      " 2   title               4808 non-null   object \n",
      " 3   director            4808 non-null   object \n",
      " 4   cast                4808 non-null   object \n",
      " 5   country             4808 non-null   object \n",
      " 6   release_year        4808 non-null   int64  \n",
      " 7   rating              4808 non-null   object \n",
      " 8   duration            4808 non-null   object \n",
      " 9   listed_in           4808 non-null   object \n",
      " 10  description         4808 non-null   object \n",
      " 11  duration_normalise  4808 non-null   float64\n",
      "dtypes: float64(1), int64(1), object(10)\n",
      "memory usage: 488.3+ KB\n"
     ]
    }
   ],
   "source": [
    "df.info()"
   ]
  },
  {
   "cell_type": "code",
   "execution_count": 22,
   "id": "9c097b6b-5282-4196-b32a-c0f36893d4a4",
   "metadata": {},
   "outputs": [],
   "source": [
    "# Encoder la variable catégorielle 'type'\n",
    "le = LabelEncoder()\n",
    "df['encoded_type'] = le.fit_transform(df['type'])"
   ]
  },
  {
   "cell_type": "code",
   "execution_count": 24,
   "id": "05db048f-0027-4bff-a891-29c3a5cf8023",
   "metadata": {},
   "outputs": [
    {
     "data": {
      "text/plain": [
       "1       0\n",
       "2       0\n",
       "3       0\n",
       "4       0\n",
       "5       1\n",
       "       ..\n",
       "7778    0\n",
       "7780    0\n",
       "7781    0\n",
       "7782    0\n",
       "7783    0\n",
       "Name: encoded_type, Length: 4808, dtype: int32"
      ]
     },
     "execution_count": 24,
     "metadata": {},
     "output_type": "execute_result"
    }
   ],
   "source": [
    "df['encoded_type']"
   ]
  },
  {
   "cell_type": "markdown",
   "id": "5680dc7b-705b-495f-a84a-6cb9f199164b",
   "metadata": {},
   "source": [
    " Sélection des caractéristiques pertinentes pour l'algorithme"
   ]
  },
  {
   "cell_type": "code",
   "execution_count": 27,
   "id": "bd1ba4c2-6ffa-43be-a32c-18d68e8190de",
   "metadata": {},
   "outputs": [],
   "source": [
    "df['encoded_rating'] = le.fit_transform(df['rating'])"
   ]
  },
  {
   "cell_type": "markdown",
   "id": "ffdad14e-3ff3-49d5-9171-aa3c7b9d43b3",
   "metadata": {},
   "source": [
    "### Affichage des données encodées"
   ]
  },
  {
   "cell_type": "code",
   "execution_count": 30,
   "id": "b66b203f-b9ec-4d9e-8927-02ceaa37eced",
   "metadata": {},
   "outputs": [
    {
     "data": {
      "text/plain": [
       "{'TV-MA': 8,\n",
       " 'R': 5,\n",
       " 'PG-13': 4,\n",
       " 'TV-14': 6,\n",
       " 'TV-G': 7,\n",
       " 'TV-PG': 9,\n",
       " 'NR': 2,\n",
       " 'PG': 3,\n",
       " 'G': 0,\n",
       " 'TV-Y7': 11,\n",
       " 'TV-Y': 10,\n",
       " 'NC-17': 1,\n",
       " 'TV-Y7-FV': 12,\n",
       " 'UR': 13}"
      ]
     },
     "execution_count": 30,
     "metadata": {},
     "output_type": "execute_result"
    }
   ],
   "source": [
    "dict(zip(df['rating'], df['encoded_rating']))"
   ]
  },
  {
   "cell_type": "code",
   "execution_count": 32,
   "id": "26fb5a0a-9f55-4d6c-a839-6cdb80e8ac59",
   "metadata": {},
   "outputs": [
    {
     "data": {
      "text/plain": [
       "1       8\n",
       "2       5\n",
       "3       4\n",
       "4       4\n",
       "5       8\n",
       "       ..\n",
       "7778    5\n",
       "7780    8\n",
       "7781    3\n",
       "7782    8\n",
       "7783    6\n",
       "Name: encoded_rating, Length: 4808, dtype: int32"
      ]
     },
     "execution_count": 32,
     "metadata": {},
     "output_type": "execute_result"
    }
   ],
   "source": [
    "df['encoded_rating']"
   ]
  },
  {
   "cell_type": "code",
   "execution_count": 34,
   "id": "40fd592e-592c-4b71-91dc-92266a1ec240",
   "metadata": {},
   "outputs": [],
   "source": [
    "features = ['director', 'duration', 'type', 'listed_in','show_id','description']\n",
    "#features = [duration, type, director, encoded_listed_in]\n",
    "X = df[features]\n",
    "#X = features\n",
    "y = df['rating']\n",
    "#y = rating"
   ]
  },
  {
   "cell_type": "code",
   "execution_count": 36,
   "id": "04f218f6-47b7-4dc4-a181-62ef632a83fb",
   "metadata": {},
   "outputs": [],
   "source": [
    "# Diviser les données en ensembles d'entraînement et de test\n",
    "X_train, X_test, y_train, y_test = train_test_split(X, y, test_size=0.15, random_state=20)"
   ]
  },
  {
   "cell_type": "code",
   "execution_count": 38,
   "id": "b3acd5d9-1e53-4c8c-b48c-b7cbc81a1dc0",
   "metadata": {},
   "outputs": [
    {
     "data": {
      "text/html": [
       "<div>\n",
       "<style scoped>\n",
       "    .dataframe tbody tr th:only-of-type {\n",
       "        vertical-align: middle;\n",
       "    }\n",
       "\n",
       "    .dataframe tbody tr th {\n",
       "        vertical-align: top;\n",
       "    }\n",
       "\n",
       "    .dataframe thead th {\n",
       "        text-align: right;\n",
       "    }\n",
       "</style>\n",
       "<table border=\"1\" class=\"dataframe\">\n",
       "  <thead>\n",
       "    <tr style=\"text-align: right;\">\n",
       "      <th></th>\n",
       "      <th>director</th>\n",
       "      <th>duration</th>\n",
       "      <th>type</th>\n",
       "      <th>listed_in</th>\n",
       "      <th>show_id</th>\n",
       "      <th>description</th>\n",
       "    </tr>\n",
       "  </thead>\n",
       "  <tbody>\n",
       "    <tr>\n",
       "      <th>7451</th>\n",
       "      <td>Vijay Yelakanti</td>\n",
       "      <td>115 min</td>\n",
       "      <td>Movie</td>\n",
       "      <td>Dramas, International Movies, Thrillers</td>\n",
       "      <td>s7452</td>\n",
       "      <td>Frustrated with the stalled investigation into...</td>\n",
       "    </tr>\n",
       "    <tr>\n",
       "      <th>2725</th>\n",
       "      <td>Shigeaki Kubo, Tsuyoshi Nakakuki</td>\n",
       "      <td>118 min</td>\n",
       "      <td>Movie</td>\n",
       "      <td>Action &amp; Adventure, International Movies</td>\n",
       "      <td>s2726</td>\n",
       "      <td>The Kuryu Group makes it their mission to take...</td>\n",
       "    </tr>\n",
       "    <tr>\n",
       "      <th>240</th>\n",
       "      <td>Brian Robbins</td>\n",
       "      <td>92 min</td>\n",
       "      <td>Movie</td>\n",
       "      <td>Comedies</td>\n",
       "      <td>s241</td>\n",
       "      <td>When he learns his karma will permit him to sp...</td>\n",
       "    </tr>\n",
       "    <tr>\n",
       "      <th>976</th>\n",
       "      <td>Ben Younger</td>\n",
       "      <td>120 min</td>\n",
       "      <td>Movie</td>\n",
       "      <td>Dramas, Sports Movies</td>\n",
       "      <td>s977</td>\n",
       "      <td>After a devastating injury derails his career,...</td>\n",
       "    </tr>\n",
       "    <tr>\n",
       "      <th>318</th>\n",
       "      <td>S.A. Zaidi</td>\n",
       "      <td>90 min</td>\n",
       "      <td>Movie</td>\n",
       "      <td>International Movies, Sci-Fi &amp; Fantasy</td>\n",
       "      <td>s319</td>\n",
       "      <td>Dubai residents struggle to figure out why a f...</td>\n",
       "    </tr>\n",
       "    <tr>\n",
       "      <th>...</th>\n",
       "      <td>...</td>\n",
       "      <td>...</td>\n",
       "      <td>...</td>\n",
       "      <td>...</td>\n",
       "      <td>...</td>\n",
       "      <td>...</td>\n",
       "    </tr>\n",
       "    <tr>\n",
       "      <th>2564</th>\n",
       "      <td>Esteban Vidal</td>\n",
       "      <td>91 min</td>\n",
       "      <td>Movie</td>\n",
       "      <td>Comedies, International Movies</td>\n",
       "      <td>s2565</td>\n",
       "      <td>When an earthquake hits Chile, rescue workers ...</td>\n",
       "    </tr>\n",
       "    <tr>\n",
       "      <th>6290</th>\n",
       "      <td>Blair Hayes</td>\n",
       "      <td>85 min</td>\n",
       "      <td>Movie</td>\n",
       "      <td>Horror Movies, Thrillers</td>\n",
       "      <td>s6291</td>\n",
       "      <td>Five high school students serving Saturday det...</td>\n",
       "    </tr>\n",
       "    <tr>\n",
       "      <th>2279</th>\n",
       "      <td>Sameh Abdulaziz</td>\n",
       "      <td>116 min</td>\n",
       "      <td>Movie</td>\n",
       "      <td>Comedies, International Movies</td>\n",
       "      <td>s2280</td>\n",
       "      <td>When climate change makes Egypt freeze over, i...</td>\n",
       "    </tr>\n",
       "    <tr>\n",
       "      <th>7030</th>\n",
       "      <td>Abhishek Sharma</td>\n",
       "      <td>135 min</td>\n",
       "      <td>Movie</td>\n",
       "      <td>Comedies, Dramas, International Movies</td>\n",
       "      <td>s7031</td>\n",
       "      <td>A goofy copywriter unwittingly convinces the I...</td>\n",
       "    </tr>\n",
       "    <tr>\n",
       "      <th>4035</th>\n",
       "      <td>Josh Z. Weinstein, Joshua Z. Weinstein</td>\n",
       "      <td>82 min</td>\n",
       "      <td>Movie</td>\n",
       "      <td>Dramas, Independent Movies</td>\n",
       "      <td>s4036</td>\n",
       "      <td>A year after his wife's death, a widower faces...</td>\n",
       "    </tr>\n",
       "  </tbody>\n",
       "</table>\n",
       "<p>4086 rows × 6 columns</p>\n",
       "</div>"
      ],
      "text/plain": [
       "                                    director duration   type  \\\n",
       "7451                         Vijay Yelakanti  115 min  Movie   \n",
       "2725        Shigeaki Kubo, Tsuyoshi Nakakuki  118 min  Movie   \n",
       "240                            Brian Robbins   92 min  Movie   \n",
       "976                              Ben Younger  120 min  Movie   \n",
       "318                               S.A. Zaidi   90 min  Movie   \n",
       "...                                      ...      ...    ...   \n",
       "2564                           Esteban Vidal   91 min  Movie   \n",
       "6290                             Blair Hayes   85 min  Movie   \n",
       "2279                         Sameh Abdulaziz  116 min  Movie   \n",
       "7030                         Abhishek Sharma  135 min  Movie   \n",
       "4035  Josh Z. Weinstein, Joshua Z. Weinstein   82 min  Movie   \n",
       "\n",
       "                                     listed_in show_id  \\\n",
       "7451   Dramas, International Movies, Thrillers   s7452   \n",
       "2725  Action & Adventure, International Movies   s2726   \n",
       "240                                   Comedies    s241   \n",
       "976                      Dramas, Sports Movies    s977   \n",
       "318     International Movies, Sci-Fi & Fantasy    s319   \n",
       "...                                        ...     ...   \n",
       "2564            Comedies, International Movies   s2565   \n",
       "6290                  Horror Movies, Thrillers   s6291   \n",
       "2279            Comedies, International Movies   s2280   \n",
       "7030    Comedies, Dramas, International Movies   s7031   \n",
       "4035                Dramas, Independent Movies   s4036   \n",
       "\n",
       "                                            description  \n",
       "7451  Frustrated with the stalled investigation into...  \n",
       "2725  The Kuryu Group makes it their mission to take...  \n",
       "240   When he learns his karma will permit him to sp...  \n",
       "976   After a devastating injury derails his career,...  \n",
       "318   Dubai residents struggle to figure out why a f...  \n",
       "...                                                 ...  \n",
       "2564  When an earthquake hits Chile, rescue workers ...  \n",
       "6290  Five high school students serving Saturday det...  \n",
       "2279  When climate change makes Egypt freeze over, i...  \n",
       "7030  A goofy copywriter unwittingly convinces the I...  \n",
       "4035  A year after his wife's death, a widower faces...  \n",
       "\n",
       "[4086 rows x 6 columns]"
      ]
     },
     "execution_count": 38,
     "metadata": {},
     "output_type": "execute_result"
    }
   ],
   "source": [
    "X_train"
   ]
  },
  {
   "cell_type": "code",
   "execution_count": 40,
   "id": "27225251-1d28-478f-9b1b-0f7670de1d3a",
   "metadata": {},
   "outputs": [
    {
     "data": {
      "text/plain": [
       "7451    TV-MA\n",
       "2725    TV-MA\n",
       "240     PG-13\n",
       "976         R\n",
       "318     TV-14\n",
       "        ...  \n",
       "2564    TV-MA\n",
       "6290    TV-14\n",
       "2279    TV-MA\n",
       "7030    TV-14\n",
       "4035       PG\n",
       "Name: rating, Length: 4086, dtype: object"
      ]
     },
     "execution_count": 40,
     "metadata": {},
     "output_type": "execute_result"
    }
   ],
   "source": [
    "y_train"
   ]
  },
  {
   "cell_type": "markdown",
   "id": "f164fc76-bd01-4992-a32b-a95bbef66476",
   "metadata": {},
   "source": [
    "### Encodage des colonnes"
   ]
  },
  {
   "cell_type": "code",
   "execution_count": 43,
   "id": "4991c734-121f-4a3d-803f-5ad3fb7caf88",
   "metadata": {},
   "outputs": [],
   "source": [
    "tmp = X_train['listed_in'].to_list()"
   ]
  },
  {
   "cell_type": "code",
   "execution_count": 45,
   "id": "9047aa86-ead8-4254-bbb0-ef23891f36df",
   "metadata": {},
   "outputs": [
    {
     "data": {
      "text/plain": [
       "'Dramas, International Movies, Thrillers'"
      ]
     },
     "execution_count": 45,
     "metadata": {},
     "output_type": "execute_result"
    }
   ],
   "source": [
    "tmp[0]"
   ]
  },
  {
   "cell_type": "code",
   "execution_count": 55,
   "id": "6258cad2-4a44-43f0-9aae-4ef9fca49c0b",
   "metadata": {},
   "outputs": [],
   "source": [
    "from sklearn.feature_extraction.text import TfidfVectorizer\n",
    "vectorizer = TfidfVectorizer()\n",
    "train_listed_in = vectorizer.fit_transform(tmp)"
   ]
  },
  {
   "cell_type": "code",
   "execution_count": 57,
   "id": "13ab2bd7-e9bf-4c40-aa00-e2eb964b8a7d",
   "metadata": {},
   "outputs": [
    {
     "data": {
      "text/plain": [
       "(4086, 45)"
      ]
     },
     "execution_count": 57,
     "metadata": {},
     "output_type": "execute_result"
    }
   ],
   "source": [
    "train_listed_in.shape"
   ]
  },
  {
   "cell_type": "code",
   "execution_count": 63,
   "id": "02493ca8-745e-4ff5-be3a-5ba605ce9ef1",
   "metadata": {},
   "outputs": [],
   "source": [
    "train_duration = vectorizer.transform(X_train['duration'])\n",
    "train_type = vectorizer.transform(X_train['type'])\n",
    "train_show_id = vectorizer.transform(X_train['show_id'])\n",
    "train_director = vectorizer.transform(X_train['director'])\n",
    "train_description = vectorizer.transform(X_train['description'])\n",
    "train_rating = vectorizer.transform(y_train)\n",
    "\n",
    "test_listed_in = vectorizer.transform(X_test['listed_in'])\n",
    "test_duration = vectorizer.transform(X_test['duration'])\n",
    "test_type = vectorizer.transform(X_test['type'])\n",
    "test_show_id = vectorizer.transform(X_test['show_id'])\n",
    "test_description = vectorizer.transform(X_test['description'])\n",
    "test_director = vectorizer.transform(X_test['director'])\n",
    "test_rating = vectorizer.transform(y_test)"
   ]
  },
  {
   "cell_type": "code",
   "execution_count": 82,
   "id": "b19bb697-2f09-4ec1-9404-09871911d0c9",
   "metadata": {},
   "outputs": [],
   "source": [
    "train_features = [train_director, train_description, train_duration, train_type, train_show_id, train_listed_in]\n",
    "train_label = train_rating\n",
    "\n",
    "test_features = [test_director,test_description, test_duration, test_type,test_show_id, test_listed_in]\n",
    "test_label = test_rating"
   ]
  },
  {
   "cell_type": "markdown",
   "id": "f3454877-ea84-40b6-b378-b3b244d6492c",
   "metadata": {},
   "source": [
    "Initialisation et entraînement du modèle de Random Forest"
   ]
  },
  {
   "cell_type": "code",
   "execution_count": 85,
   "id": "d028cadb-cf0e-4d48-85ea-92c70bbe1a78",
   "metadata": {},
   "outputs": [
    {
     "data": {
      "text/html": [
       "<style>#sk-container-id-2 {color: black;background-color: white;}#sk-container-id-2 pre{padding: 0;}#sk-container-id-2 div.sk-toggleable {background-color: white;}#sk-container-id-2 label.sk-toggleable__label {cursor: pointer;display: block;width: 100%;margin-bottom: 0;padding: 0.3em;box-sizing: border-box;text-align: center;}#sk-container-id-2 label.sk-toggleable__label-arrow:before {content: \"▸\";float: left;margin-right: 0.25em;color: #696969;}#sk-container-id-2 label.sk-toggleable__label-arrow:hover:before {color: black;}#sk-container-id-2 div.sk-estimator:hover label.sk-toggleable__label-arrow:before {color: black;}#sk-container-id-2 div.sk-toggleable__content {max-height: 0;max-width: 0;overflow: hidden;text-align: left;background-color: #f0f8ff;}#sk-container-id-2 div.sk-toggleable__content pre {margin: 0.2em;color: black;border-radius: 0.25em;background-color: #f0f8ff;}#sk-container-id-2 input.sk-toggleable__control:checked~div.sk-toggleable__content {max-height: 200px;max-width: 100%;overflow: auto;}#sk-container-id-2 input.sk-toggleable__control:checked~label.sk-toggleable__label-arrow:before {content: \"▾\";}#sk-container-id-2 div.sk-estimator input.sk-toggleable__control:checked~label.sk-toggleable__label {background-color: #d4ebff;}#sk-container-id-2 div.sk-label input.sk-toggleable__control:checked~label.sk-toggleable__label {background-color: #d4ebff;}#sk-container-id-2 input.sk-hidden--visually {border: 0;clip: rect(1px 1px 1px 1px);clip: rect(1px, 1px, 1px, 1px);height: 1px;margin: -1px;overflow: hidden;padding: 0;position: absolute;width: 1px;}#sk-container-id-2 div.sk-estimator {font-family: monospace;background-color: #f0f8ff;border: 1px dotted black;border-radius: 0.25em;box-sizing: border-box;margin-bottom: 0.5em;}#sk-container-id-2 div.sk-estimator:hover {background-color: #d4ebff;}#sk-container-id-2 div.sk-parallel-item::after {content: \"\";width: 100%;border-bottom: 1px solid gray;flex-grow: 1;}#sk-container-id-2 div.sk-label:hover label.sk-toggleable__label {background-color: #d4ebff;}#sk-container-id-2 div.sk-serial::before {content: \"\";position: absolute;border-left: 1px solid gray;box-sizing: border-box;top: 0;bottom: 0;left: 50%;z-index: 0;}#sk-container-id-2 div.sk-serial {display: flex;flex-direction: column;align-items: center;background-color: white;padding-right: 0.2em;padding-left: 0.2em;position: relative;}#sk-container-id-2 div.sk-item {position: relative;z-index: 1;}#sk-container-id-2 div.sk-parallel {display: flex;align-items: stretch;justify-content: center;background-color: white;position: relative;}#sk-container-id-2 div.sk-item::before, #sk-container-id-2 div.sk-parallel-item::before {content: \"\";position: absolute;border-left: 1px solid gray;box-sizing: border-box;top: 0;bottom: 0;left: 50%;z-index: -1;}#sk-container-id-2 div.sk-parallel-item {display: flex;flex-direction: column;z-index: 1;position: relative;background-color: white;}#sk-container-id-2 div.sk-parallel-item:first-child::after {align-self: flex-end;width: 50%;}#sk-container-id-2 div.sk-parallel-item:last-child::after {align-self: flex-start;width: 50%;}#sk-container-id-2 div.sk-parallel-item:only-child::after {width: 0;}#sk-container-id-2 div.sk-dashed-wrapped {border: 1px dashed gray;margin: 0 0.4em 0.5em 0.4em;box-sizing: border-box;padding-bottom: 0.4em;background-color: white;}#sk-container-id-2 div.sk-label label {font-family: monospace;font-weight: bold;display: inline-block;line-height: 1.2em;}#sk-container-id-2 div.sk-label-container {text-align: center;}#sk-container-id-2 div.sk-container {/* jupyter's `normalize.less` sets `[hidden] { display: none; }` but bootstrap.min.css set `[hidden] { display: none !important; }` so we also need the `!important` here to be able to override the default hidden behavior on the sphinx rendered scikit-learn.org. See: https://github.com/scikit-learn/scikit-learn/issues/21755 */display: inline-block !important;position: relative;}#sk-container-id-2 div.sk-text-repr-fallback {display: none;}</style><div id=\"sk-container-id-2\" class=\"sk-top-container\"><div class=\"sk-text-repr-fallback\"><pre>RandomForestClassifier(n_estimators=10, random_state=10)</pre><b>In a Jupyter environment, please rerun this cell to show the HTML representation or trust the notebook. <br />On GitHub, the HTML representation is unable to render, please try loading this page with nbviewer.org.</b></div><div class=\"sk-container\" hidden><div class=\"sk-item\"><div class=\"sk-estimator sk-toggleable\"><input class=\"sk-toggleable__control sk-hidden--visually\" id=\"sk-estimator-id-2\" type=\"checkbox\" checked><label for=\"sk-estimator-id-2\" class=\"sk-toggleable__label sk-toggleable__label-arrow\">RandomForestClassifier</label><div class=\"sk-toggleable__content\"><pre>RandomForestClassifier(n_estimators=10, random_state=10)</pre></div></div></div></div></div>"
      ],
      "text/plain": [
       "RandomForestClassifier(n_estimators=10, random_state=10)"
      ]
     },
     "execution_count": 85,
     "metadata": {},
     "output_type": "execute_result"
    }
   ],
   "source": [
    "#initialisation\n",
    "rf_model = RandomForestClassifier(n_estimators=10, random_state=10)\n",
    "rf_model.fit(train_listed_in, y_train)"
   ]
  },
  {
   "cell_type": "code",
   "execution_count": 87,
   "id": "a3c688f3-da72-4fea-8ccc-d133bbed74e8",
   "metadata": {},
   "outputs": [
    {
     "name": "stdout",
     "output_type": "stream",
     "text": [
      "Précision du modèle Random Forest : 0.48337950138504154\n"
     ]
    }
   ],
   "source": [
    "# Faire des prédictions sur l'ensemble de test\n",
    "predictions = rf_model.predict(test_listed_in)\n",
    "\n",
    "# Calculer la précision du modèle\n",
    "accuracy = accuracy_score(y_test, predictions)\n",
    "print(f\"Précision du modèle Random Forest : {accuracy}\")"
   ]
  },
  {
   "cell_type": "code",
   "execution_count": 72,
   "id": "01bd802a-8466-4266-b875-c6e8fcbdf8da",
   "metadata": {},
   "outputs": [
    {
     "name": "stdout",
     "output_type": "stream",
     "text": [
      "Requirement already satisfied: graphviz in c:\\users\\eyaga tabi francois\\anaconda3\\lib\\site-packages (0.20.1)\n"
     ]
    }
   ],
   "source": [
    "!pip install graphviz"
   ]
  },
  {
   "cell_type": "code",
   "execution_count": 74,
   "id": "837550aa-70b2-4aa1-bdd2-48ba2ed4ef3c",
   "metadata": {},
   "outputs": [
    {
     "name": "stdout",
     "output_type": "stream",
     "text": [
      "Requirement already satisfied: pydot in c:\\users\\eyaga tabi francois\\anaconda3\\lib\\site-packages (1.4.2)\n",
      "Requirement already satisfied: pyparsing>=2.1.4 in c:\\users\\eyaga tabi francois\\anaconda3\\lib\\site-packages (from pydot) (2.4.7)\n"
     ]
    }
   ],
   "source": [
    "!pip install pydot"
   ]
  },
  {
   "cell_type": "code",
   "execution_count": 89,
   "id": "56535a0f-5bec-4b54-bbae-1eef9432fc6f",
   "metadata": {},
   "outputs": [],
   "source": [
    "import sklearn.tree\n",
    "import graphviz\n",
    "from sklearn.tree import export_graphviz"
   ]
  },
  {
   "cell_type": "code",
   "execution_count": 3,
   "id": "f5f389a1-42c8-46ff-b695-036717a1a0a8",
   "metadata": {},
   "outputs": [],
   "source": [
    "from sklearn.ensemble import RandomForestClassifier\n",
    "from sklearn.tree import export_graphviz\n",
    "import pydot\n",
    "from io import StringIO\n",
    "\n",
    "# Initialisation du modèle et entraînement\n",
    "rf_model = RandomForestClassifier(n_estimators=100, random_state=42)\n",
    "rf_model.fit(X_train, y_train)\n",
    "\n",
    "# Exporter l'un des arbres du modèle RandomForest\n",
    "tree = rf_model.estimators_[0]  # Sélectionner le premier arbre\n",
    "\n",
    "# Exportation de l'arbre au format DOT\n",
    "dot_data = StringIO()\n",
    "export_graphviz(tree, out_file=dot_data, feature_names=X_train.columns, filled=True, rounded=True, special_characters=True)\n",
    "\n",
    " Conversion en graphe\n",
    "(graph,) = pydot.graph_from_dot_data(dot_data.getvalue())\n",
    "\n",
    " Sauvegarder le graphe en tant qu'image PNG\n",
    "graph.write_png('treat.png')\n",
    "\n"
   ]
  },
  {
   "cell_type": "markdown",
   "id": "dfedd397-f076-4344-84e6-cac9421bad02",
   "metadata": {},
   "source": [
    "amelioration du model de prediction\n",
    "\n"
   ]
  },
  {
   "cell_type": "code",
   "execution_count": 93,
   "id": "8d0c4575-42cf-49d7-9d90-a463e5fc89bc",
   "metadata": {},
   "outputs": [
    {
     "name": "stdout",
     "output_type": "stream",
     "text": [
      "Fitting 3 folds for each of 100 candidates, totalling 300 fits\n"
     ]
    },
    {
     "name": "stderr",
     "output_type": "stream",
     "text": [
      "C:\\Users\\EYAGA TABI Francois\\anaconda3\\Lib\\site-packages\\sklearn\\model_selection\\_split.py:684: UserWarning: The least populated class in y has only 2 members, which is less than n_splits=3.\n",
      "  warnings.warn(\n"
     ]
    },
    {
     "name": "stdout",
     "output_type": "stream",
     "text": [
      "Meilleurs hyperparamètres: {'n_estimators': 300, 'min_samples_split': 2, 'min_samples_leaf': 4, 'max_features': 'sqrt', 'max_depth': 30, 'bootstrap': True}\n",
      "Accuracy après optimisation: 0.4806094182825485\n"
     ]
    }
   ],
   "source": [
    "from sklearn.ensemble import RandomForestClassifier\n",
    "from sklearn.model_selection import GridSearchCV, RandomizedSearchCV\n",
    "\n",
    "# Définir la grille d'hyperparamètres à explorer\n",
    "param_grid = {\n",
    "    'n_estimators': [100, 200, 300, 400, 500],\n",
    "    'max_features': ['auto', 'sqrt', 'log2'],\n",
    "    'max_depth': [None, 10, 20, 30, 40, 50],\n",
    "    'min_samples_split': [2, 5, 10],\n",
    "    'min_samples_leaf': [1, 2, 4],\n",
    "    'bootstrap': [True, False]\n",
    "}\n",
    "\n",
    "# Initialisation du modèle RandomForest\n",
    "rf = RandomForestClassifier(random_state=42)\n",
    "\n",
    "# Utilisation de RandomizedSearchCV pour optimiser les hyperparamètres\n",
    "random_search = RandomizedSearchCV(estimator=rf, param_distributions=param_grid, \n",
    "                                   n_iter=100, cv=3, verbose=2, random_state=42, n_jobs=-1)\n",
    "\n",
    "# Entraînement avec la recherche d'hyperparamètres\n",
    "random_search.fit(train_listed_in, y_train)\n",
    "\n",
    "# Afficher les meilleurs hyperparamètres trouvés\n",
    "print(\"Meilleurs hyperparamètres:\", random_search.best_params_)\n",
    "\n",
    "# Utiliser les meilleurs hyperparamètres pour faire des prédictions\n",
    "best_rf_model = random_search.best_estimator_\n",
    "predictions = best_rf_model.predict(test_listed_in)\n",
    "\n",
    "# Calculer la précision\n",
    "from sklearn.metrics import accuracy_score\n",
    "accuracy = accuracy_score(y_test, predictions)\n",
    "print(\"Accuracy après optimisation:\", accuracy)\n"
   ]
  },
  {
   "cell_type": "code",
   "execution_count": 93,
   "id": "1c5f858a-9740-496b-90c6-5f8d8b8e6fdb",
   "metadata": {},
   "outputs": [
    {
     "data": {
      "image/png": "[encoded data removed]",
      "text/plain": [
       "<Figure size 640x480 with 2 Axes>"
      ]
     },
     "metadata": {},
     "output_type": "display_data"
    },
    {
     "name": "stdout",
     "output_type": "stream",
     "text": [
      "              precision    recall  f1-score   support\n",
      "\n",
      "           G       0.00      0.00      0.00         7\n",
      "          NR       0.00      0.00      0.00         9\n",
      "          PG       0.39      0.52      0.44        27\n",
      "       PG-13       0.47      0.27      0.35        62\n",
      "           R       0.43      0.61      0.51       101\n",
      "       TV-14       0.50      0.48      0.49       166\n",
      "        TV-G       0.00      0.00      0.00        14\n",
      "       TV-MA       0.53      0.66      0.59       250\n",
      "       TV-PG       0.18      0.05      0.07        66\n",
      "        TV-Y       0.35      0.54      0.42        13\n",
      "       TV-Y7       0.00      0.00      0.00         6\n",
      "    TV-Y7-FV       0.00      0.00      0.00         1\n",
      "\n",
      "    accuracy                           0.48       722\n",
      "   macro avg       0.24      0.26      0.24       722\n",
      "weighted avg       0.44      0.48      0.45       722\n",
      "\n"
     ]
    },
    {
     "name": "stderr",
     "output_type": "stream",
     "text": [
      "C:\\Users\\Djafar\\anaconda3\\envs\\pytorch_env\\lib\\site-packages\\sklearn\\metrics\\_classification.py:1471: UndefinedMetricWarning: Precision and F-score are ill-defined and being set to 0.0 in labels with no predicted samples. Use `zero_division` parameter to control this behavior.\n",
      "  _warn_prf(average, modifier, msg_start, len(result))\n",
      "C:\\Users\\Djafar\\anaconda3\\envs\\pytorch_env\\lib\\site-packages\\sklearn\\metrics\\_classification.py:1471: UndefinedMetricWarning: Precision and F-score are ill-defined and being set to 0.0 in labels with no predicted samples. Use `zero_division` parameter to control this behavior.\n",
      "  _warn_prf(average, modifier, msg_start, len(result))\n",
      "C:\\Users\\Djafar\\anaconda3\\envs\\pytorch_env\\lib\\site-packages\\sklearn\\metrics\\_classification.py:1471: UndefinedMetricWarning: Precision and F-score are ill-defined and being set to 0.0 in labels with no predicted samples. Use `zero_division` parameter to control this behavior.\n",
      "  _warn_prf(average, modifier, msg_start, len(result))\n"
     ]
    }
   ],
   "source": [
    "from sklearn.metrics import confusion_matrix, ConfusionMatrixDisplay, classification_report\n",
    "import matplotlib.pyplot as plt\n",
    "\n",
    "cm = confusion_matrix(y_true=y_test, y_pred=predictions)\n",
    "cm_display = ConfusionMatrixDisplay(confusion_matrix=cm)\n",
    "cm_display.plot()\n",
    "plt.show()\n",
    "\n",
    "print(classification_report(y_test, predictions))"
   ]
  },
  {
   "cell_type": "code",
   "execution_count": null,
   "id": "a8944b1e-a2bb-46b3-be30-c5335480c1b1",
   "metadata": {},
   "outputs": [],
   "source": []
  }
 ],
 "metadata": {
  "kernelspec": {
   "display_name": "Python 3 (ipykernel)",
   "language": "python",
   "name": "python3"
  },
  "language_info": {
   "codemirror_mode": {
    "name": "ipython",
    "version": 3
   },
   "file_extension": ".py",
   "mimetype": "text/x-python",
   "name": "python",
   "nbconvert_exporter": "python",
   "pygments_lexer": "ipython3",
   "version": "3.11.7"
  }
 },
 "nbformat": 4,
 "nbformat_minor": 5
}
